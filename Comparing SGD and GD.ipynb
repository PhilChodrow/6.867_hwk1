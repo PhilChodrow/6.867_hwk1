{
 "cells": [
  {
   "cell_type": "code",
   "execution_count": 1,
   "metadata": {
    "collapsed": false
   },
   "outputs": [],
   "source": [
    "from code.P1.Functions import *\n",
    "from code.P1.SGD import *\n",
    "from code.P1.GradientDescent import *\n",
    "from code.P1 import loadFittingDataP1\n",
    "import pylab as pl\n",
    "import numpy as np\n",
    "import time"
   ]
  },
  {
   "cell_type": "code",
   "execution_count": 38,
   "metadata": {
    "collapsed": false
   },
   "outputs": [],
   "source": [
    "Kappa=.99\n",
    "tau0=math.exp(20)\n",
    "X = pl.loadtxt('code/P1/fittingdatap1_x.txt')\n",
    "Y = pl.loadtxt('code/P1/fittingdatap1_Y.txt')\n",
    "StartingPoint=np.zeros(len(X[0]))\n",
    "start_time = time.time()"
   ]
  },
  {
   "cell_type": "code",
   "execution_count": 39,
   "metadata": {
    "collapsed": false
   },
   "outputs": [],
   "source": [
    "BatchPath,BatchOpt=GradientDescent(Functions.SSE,\n",
    "                                   Functions.GradientSSE,\n",
    "                                   StartingPoint,\n",
    "                                   (tau0**(-Kappa)),\n",
    "                                   10**(-3),\n",
    "                                   0,\n",
    "                                   0,\n",
    "                                   100000,\n",
    "                                   X,\n",
    "                                   Y)"
   ]
  },
  {
   "cell_type": "code",
   "execution_count": 40,
   "metadata": {
    "collapsed": false
   },
   "outputs": [
    {
     "name": "stdout",
     "output_type": "stream",
     "text": [
      "(8337.6233238383811, 8337.5239294089188)\n"
     ]
    }
   ],
   "source": [
    "SGDPath,SGDOpt=SGD(Functions.SSE,\n",
    "                   Functions.GradientSSEPoint,\n",
    "                   StartingPoint, \n",
    "                   tau0, \n",
    "                   Kappa, \n",
    "                   10**(-1), \n",
    "                   1,\n",
    "                   BatchOpt,\n",
    "                   X, \n",
    "                   Y, \n",
    "                   max_iters = 1000000000)\n",
    "print(SGDOpt, BatchOpt)"
   ]
  }
 ],
 "metadata": {
  "kernelspec": {
   "display_name": "Python 2",
   "language": "python",
   "name": "python2"
  },
  "language_info": {
   "codemirror_mode": {
    "name": "ipython",
    "version": 2
   },
   "file_extension": ".py",
   "mimetype": "text/x-python",
   "name": "python",
   "nbconvert_exporter": "python",
   "pygments_lexer": "ipython2",
   "version": "2.7.11"
  }
 },
 "nbformat": 4,
 "nbformat_minor": 0
}
